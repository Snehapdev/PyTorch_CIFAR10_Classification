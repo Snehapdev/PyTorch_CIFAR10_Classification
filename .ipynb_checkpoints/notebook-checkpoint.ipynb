{
 "cells": [
  {
   "cell_type": "code",
   "execution_count": null,
   "metadata": {},
   "outputs": [],
   "source": [
    "# Import necessary libraries\n",
    "import torch\n",
    "import torch.optim as optim\n",
    "from torch.utils.data import DataLoader, random_split\n",
    "from torchvision import datasets, transforms\n",
    "from sklearn.metrics import classification_report\n",
    "from utils.visualization import show_images\n",
    "from src.model import SoftmaxClassifier\n",
    "from src.data_processing import get_data_loaders\n",
    "from src.train import train_model\n",
    "from src.evaluation import evaluate_model\n",
    "\n",
    "# Set up data loaders\n",
    "train_loader, val_loader, test_loader = get_data_loaders()\n",
    "\n",
    "# Define Softmax Classifier\n",
    "n_input = 32 * 32 * 3  # CIFAR10 images have a size of 32x32 pixels and 3 channels (RGB)\n",
    "n_output = 10  # Number of CIFAR10 classes\n",
    "model = SoftmaxClassifier(n_input, n_output)\n",
    "\n",
    "# Train the model\n",
    "model, training_losses = train_model(model, train_loader)\n",
    "\n",
    "# Evaluate the model\n",
    "accuracy_val = evaluate_model(model, val_loader, n_input)\n",
    "print(f'Validation Accuracy: {accuracy_val * 100:.2f}%')\n",
    "\n",
    "# Evaluate on the test set\n",
    "test_accuracy = evaluate_model(model, test_loader, n_input)\n",
    "print(f'Test Accuracy: {test_accuracy * 100:.2f}%')\n",
    "\n",
    "# Generate classification report\n",
    "classification_report_test = generate_classification_report(model, test_loader, n_input)\n",
    "print(\"\\nClassification Report:\")\n",
    "print(classification_report_test)\n"
   ]
  }
 ],
 "metadata": {
  "language_info": {
   "name": "python"
  }
 },
 "nbformat": 4,
 "nbformat_minor": 2
}
